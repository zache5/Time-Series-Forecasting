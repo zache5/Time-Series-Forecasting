{
 "cells": [
  {
   "cell_type": "markdown",
   "metadata": {},
   "source": [
    "# Forecasting Net Prophet\n",
    "\n",
    "You’re a growth analyst at [MercadoLibre](http://investor.mercadolibre.com/investor-relations). With over 200 million users, MercadoLibre is the most popular e-commerce site in Latin America. You've been tasked with analyzing the company's financial and user data in clever ways to make the company grow. So, you want to find out if the ability to predict search traffic can translate into the ability to successfully trade the stock.\n",
    "\n",
    "Instructions\n",
    "\n",
    "This section divides the instructions for this Challenge into four steps and an optional fifth step, as follows:\n",
    "\n",
    "* Step 1: Find unusual patterns in hourly Google search traffic\n",
    "\n",
    "* Step 2: Mine the search traffic data for seasonality\n",
    "\n",
    "* Step 3: Relate the search traffic to stock price patterns\n",
    "\n",
    "* Step 4: Create a time series model with Prophet\n",
    "\n",
    "* Step 5 (optional): Forecast revenue by using time series models\n",
    "\n",
    "The following subsections detail these steps.\n",
    "\n",
    "## Step 1: Find Unusual Patterns in Hourly Google Search Traffic\n",
    "\n",
    "The data science manager asks if the Google search traffic for the company links to any financial events at the company. Or, does the search traffic data just present random noise? To answer this question, pick out any unusual patterns in the Google search data for the company, and connect them to the corporate financial events.\n",
    "\n",
    "To do so, complete the following steps:\n",
    "\n",
    "1. Read the search data into a DataFrame, and then slice the data to just the month of May 2020. (During this month, MercadoLibre released its quarterly financial results.) Use hvPlot to visualize the results. Do any unusual patterns exist?\n",
    "\n",
    "2. Calculate the total search traffic for the month, and then compare the value to the monthly median across all months. Did the Google search traffic increase during the month that MercadoLibre released its financial results?\n",
    "\n",
    "## Step 2: Mine the Search Traffic Data for Seasonality\n",
    "\n",
    "Marketing realizes that they can use the hourly search data, too. If they can track and predict interest in the company and its platform for any time of day, they can focus their marketing efforts around the times that have the most traffic. This will get a greater return on investment (ROI) from their marketing budget.\n",
    "\n",
    "To that end, you want to mine the search traffic data for predictable seasonal patterns of interest in the company. To do so, complete the following steps:\n",
    "\n",
    "1. Group the hourly search data to plot the average traffic by the day of the week (for example, Monday vs. Friday).\n",
    "\n",
    "2. Using hvPlot, visualize this traffic as a heatmap, referencing the `index.hour` as the x-axis and the `index.dayofweek` as the y-axis. Does any day-of-week effect that you observe concentrate in just a few hours of that day?\n",
    "\n",
    "3. Group the search data by the week of the year. Does the search traffic tend to increase during the winter holiday period (weeks 40 through 52)?\n",
    "\n",
    "## Step 3: Relate the Search Traffic to Stock Price Patterns\n",
    "\n",
    "You mention your work on the search traffic data during a meeting with people in the finance group at the company. They want to know if any relationship between the search data and the company stock price exists, and they ask if you can investigate.\n",
    "\n",
    "To do so, complete the following steps:\n",
    "\n",
    "1. Read in and plot the stock price data. Concatenate the stock price data to the search data in a single DataFrame.\n",
    "\n",
    "2. Market events emerged during the year of 2020 that many companies found difficult. But, after the initial shock to global financial markets, new customers and revenue increased for e-commerce platforms. Slice the data to just the first half of 2020 (`2020-01` to `2020-06` in the DataFrame), and then use hvPlot to plot the data. Do both time series indicate a common trend that’s consistent with this narrative?\n",
    "\n",
    "3. Create a new column in the DataFrame named “Lagged Search Trends” that offsets, or shifts, the search traffic by one hour. Create two additional columns:\n",
    "\n",
    "    * “Stock Volatility”, which holds an exponentially weighted four-hour rolling average of the company’s stock volatility\n",
    "\n",
    "    * “Hourly Stock Return”, which holds the percent change of the company's stock price on an hourly basis\n",
    "\n",
    "4. Review the time series correlation, and then answer the following question: Does a predictable relationship exist between the lagged search traffic and the stock volatility or between the lagged search traffic and the stock price returns?\n",
    "\n",
    "## Step 4: Create a Time Series Model with Prophet\n",
    "\n",
    "Now, you need to produce a time series model that analyzes and forecasts patterns in the hourly search data. To do so, complete the following steps:\n",
    "\n",
    "1. Set up the Google search data for a Prophet forecasting model.\n",
    "\n",
    "2. After estimating the model, plot the forecast. How's the near-term forecast for the popularity of MercadoLibre?\n",
    "\n",
    "3. Plot the individual time series components of the model to answer the following questions:\n",
    "\n",
    "    * What time of day exhibits the greatest popularity?\n",
    "\n",
    "    * Which day of the week gets the most search traffic?\n",
    "\n",
    "    * What's the lowest point for search traffic in the calendar year?\n",
    "\n",
    "## Step 5 (Optional): Forecast Revenue by Using Time Series Models\n",
    "\n",
    "A few weeks after your initial analysis, the finance group follows up to find out if you can help them solve a different problem. Your fame as a growth analyst in the company continues to grow!\n",
    "\n",
    "Specifically, the finance group wants a forecast of the total sales for the next quarter. This will dramatically increase their ability to plan budgets and to help guide expectations for the company investors.\n",
    "\n",
    "To do so, complete the following steps:\n",
    "\n",
    "1. Read in the daily historical sales (that is, revenue) figures, and then apply a Prophet model to the data.\n",
    "\n",
    "2. Interpret the model output to identify any seasonal patterns in the company's revenue. For example, what are the peak revenue days? (Mondays? Fridays? Something else?)\n",
    "\n",
    "3. Produce a sales forecast for the finance group. Give them a number for the expected total sales in the next quarter. Include the best- and worst-case scenarios to help them make better plans.\n"
   ]
  },
  {
   "cell_type": "markdown",
   "metadata": {},
   "source": [
    "## Install and import the required libraries and dependencies"
   ]
  },
  {
   "cell_type": "code",
   "execution_count": 1,
   "metadata": {},
   "outputs": [
    {
     "name": "stdout",
     "output_type": "stream",
     "text": [
      "Collecting pystan\n",
      "  Using cached pystan-3.3.0-py3-none-any.whl (13 kB)\n",
      "  Using cached pystan-3.2.0-py3-none-any.whl (13 kB)\n",
      "Collecting clikit<0.7,>=0.6\n",
      "  Using cached clikit-0.6.2-py2.py3-none-any.whl (91 kB)\n",
      "Requirement already satisfied: numpy<2.0,>=1.7 in c:\\users\\zache\\anaconda4\\envs\\dev\\lib\\site-packages (from pystan) (1.21.5)\n",
      "Collecting pysimdjson<4.0,>=3.2\n",
      "  Using cached pysimdjson-3.2.0-cp37-cp37m-win_amd64.whl (149 kB)\n",
      "Collecting pystan\n",
      "  Using cached pystan-3.1.1-py3-none-any.whl (13 kB)\n",
      "  Using cached pystan-3.1.0-py3-none-any.whl (13 kB)\n",
      "  Using cached pystan-3.0.2-py3-none-any.whl (13 kB)\n",
      "  Using cached pystan-3.0.1-py3-none-any.whl (12 kB)\n",
      "  Using cached pystan-3.0.0-py3-none-any.whl (12 kB)\n",
      "  Using cached pystan-2.19.1.1-cp37-cp37m-win_amd64.whl (79.8 MB)\n",
      "Requirement already satisfied: Cython!=0.25.1,>=0.22 in c:\\users\\zache\\anaconda4\\envs\\dev\\lib\\site-packages (from pystan) (0.29.32)\n",
      "Installing collected packages: pystan\n",
      "Successfully installed pystan-2.19.1.1\n",
      "Note: you may need to restart the kernel to use updated packages.\n",
      "Collecting fbprophet\n",
      "  Using cached fbprophet-0.7.1.tar.gz (64 kB)\n",
      "  Preparing metadata (setup.py): started\n",
      "  Preparing metadata (setup.py): finished with status 'done'\n",
      "Requirement already satisfied: Cython>=0.22 in c:\\users\\zache\\anaconda4\\envs\\dev\\lib\\site-packages (from fbprophet) (0.29.32)\n",
      "Collecting cmdstanpy==0.9.5\n",
      "  Using cached cmdstanpy-0.9.5-py3-none-any.whl (37 kB)\n",
      "Requirement already satisfied: pystan>=2.14 in c:\\users\\zache\\anaconda4\\envs\\dev\\lib\\site-packages (from fbprophet) (2.19.1.1)\n",
      "Requirement already satisfied: numpy>=1.15.4 in c:\\users\\zache\\anaconda4\\envs\\dev\\lib\\site-packages (from fbprophet) (1.21.5)\n",
      "Requirement already satisfied: pandas>=1.0.4 in c:\\users\\zache\\anaconda4\\envs\\dev\\lib\\site-packages (from fbprophet) (1.3.5)\n",
      "Requirement already satisfied: matplotlib>=2.0.0 in c:\\users\\zache\\anaconda4\\envs\\dev\\lib\\site-packages (from fbprophet) (3.5.3)\n",
      "Collecting LunarCalendar>=0.0.9\n",
      "  Using cached LunarCalendar-0.0.9-py2.py3-none-any.whl (18 kB)\n",
      "Collecting convertdate>=2.1.2\n",
      "  Using cached convertdate-2.4.0-py3-none-any.whl (47 kB)\n",
      "Collecting holidays>=0.10.2\n",
      "  Using cached holidays-0.17.2-py3-none-any.whl (187 kB)\n",
      "Collecting setuptools-git>=1.2\n",
      "  Using cached setuptools_git-1.2-py2.py3-none-any.whl (10 kB)\n",
      "Requirement already satisfied: python-dateutil>=2.8.0 in c:\\users\\zache\\anaconda4\\envs\\dev\\lib\\site-packages (from fbprophet) (2.8.2)\n",
      "Requirement already satisfied: tqdm>=4.36.1 in c:\\users\\zache\\anaconda4\\envs\\dev\\lib\\site-packages (from fbprophet) (4.64.1)\n",
      "Collecting pymeeus<=1,>=0.3.13\n",
      "  Using cached PyMeeus-0.5.12.tar.gz (5.8 MB)\n",
      "  Preparing metadata (setup.py): started\n",
      "  Preparing metadata (setup.py): finished with status 'done'\n",
      "Collecting hijri-converter\n",
      "  Using cached hijri_converter-2.2.4-py3-none-any.whl (14 kB)\n",
      "Collecting korean-lunar-calendar\n",
      "  Using cached korean_lunar_calendar-0.3.1-py3-none-any.whl (9.0 kB)\n",
      "Collecting ephem>=3.7.5.3\n",
      "  Using cached ephem-4.1.3-cp37-cp37m-win_amd64.whl (1.4 MB)\n",
      "Requirement already satisfied: pytz in c:\\users\\zache\\anaconda4\\envs\\dev\\lib\\site-packages (from LunarCalendar>=0.0.9->fbprophet) (2022.1)\n",
      "Requirement already satisfied: pillow>=6.2.0 in c:\\users\\zache\\anaconda4\\envs\\dev\\lib\\site-packages (from matplotlib>=2.0.0->fbprophet) (9.2.0)\n",
      "Requirement already satisfied: pyparsing>=2.2.1 in c:\\users\\zache\\anaconda4\\envs\\dev\\lib\\site-packages (from matplotlib>=2.0.0->fbprophet) (3.0.9)\n",
      "Requirement already satisfied: packaging>=20.0 in c:\\users\\zache\\anaconda4\\envs\\dev\\lib\\site-packages (from matplotlib>=2.0.0->fbprophet) (21.3)\n",
      "Requirement already satisfied: cycler>=0.10 in c:\\users\\zache\\anaconda4\\envs\\dev\\lib\\site-packages (from matplotlib>=2.0.0->fbprophet) (0.11.0)\n",
      "Requirement already satisfied: kiwisolver>=1.0.1 in c:\\users\\zache\\anaconda4\\envs\\dev\\lib\\site-packages (from matplotlib>=2.0.0->fbprophet) (1.4.2)\n",
      "Requirement already satisfied: fonttools>=4.22.0 in c:\\users\\zache\\anaconda4\\envs\\dev\\lib\\site-packages (from matplotlib>=2.0.0->fbprophet) (4.25.0)\n",
      "Requirement already satisfied: six>=1.5 in c:\\users\\zache\\anaconda4\\envs\\dev\\lib\\site-packages (from python-dateutil>=2.8.0->fbprophet) (1.16.0)\n",
      "Requirement already satisfied: colorama in c:\\users\\zache\\anaconda4\\envs\\dev\\lib\\site-packages (from tqdm>=4.36.1->fbprophet) (0.4.5)\n",
      "Requirement already satisfied: typing-extensions in c:\\users\\zache\\anaconda4\\envs\\dev\\lib\\site-packages (from kiwisolver>=1.0.1->matplotlib>=2.0.0->fbprophet) (4.4.0)\n",
      "Building wheels for collected packages: fbprophet, pymeeus\n",
      "  Building wheel for fbprophet (setup.py): started\n",
      "  Building wheel for fbprophet (setup.py): finished with status 'error'\n",
      "  Running setup.py clean for fbprophet\n",
      "  Building wheel for pymeeus (setup.py): started\n",
      "  Building wheel for pymeeus (setup.py): finished with status 'done'\n",
      "  Created wheel for pymeeus: filename=PyMeeus-0.5.12-py3-none-any.whl size=732001 sha256=19c888aa3ce83dd3a2b5ad0d955fc4ca0d2fb081e71cb371d948067ac29ff438\n",
      "  Stored in directory: c:\\users\\zache\\appdata\\local\\pip\\cache\\wheels\\80\\11\\82\\146513e81cf4efcc994780a5f4c25387d66894c4d139c62b74\n",
      "Successfully built pymeeus\n",
      "Failed to build fbprophet\n",
      "Installing collected packages: setuptools-git, pymeeus, korean-lunar-calendar, ephem, hijri-converter, convertdate, LunarCalendar, holidays, cmdstanpy, fbprophet\n",
      "  Running setup.py install for fbprophet: started\n",
      "  Running setup.py install for fbprophet: finished with status 'error'\n",
      "Note: you may need to restart the kernel to use updated packages.\n"
     ]
    },
    {
     "name": "stderr",
     "output_type": "stream",
     "text": [
      "  error: subprocess-exited-with-error\n",
      "  \n",
      "  python setup.py bdist_wheel did not run successfully.\n",
      "  exit code: 1\n",
      "  \n",
      "  [186 lines of output]\n",
      "  running bdist_wheel\n",
      "  running build\n",
      "  running build_py\n",
      "  creating build\n",
      "  creating build\\lib\n",
      "  creating build\\lib\\fbprophet\n",
      "  creating build\\lib\\fbprophet\\stan_model\n",
      "  --- Logging error ---\n",
      "  Traceback (most recent call last):\n",
      "    File \"C:\\Users\\zache\\anaconda4\\envs\\dev\\lib\\logging\\__init__.py\", line 1028, in emit\n",
      "      stream.write(msg + self.terminator)\n",
      "  ValueError: underlying buffer has been detached\n",
      "  Call stack:\n",
      "    File \"<string>\", line 36, in <module>\n",
      "    File \"<pip-setuptools-caller>\", line 34, in <module>\n",
      "    File \"C:\\Users\\zache\\AppData\\Local\\Temp\\pip-install-ldmslnxy\\fbprophet_14fec0d8f5264c0d91686b78b776b77d\\setup.py\", line 149, in <module>\n",
      "      long_description_content_type='text/markdown',\n",
      "    File \"C:\\Users\\zache\\anaconda4\\envs\\dev\\lib\\site-packages\\setuptools\\__init__.py\", line 87, in setup\n",
      "      return distutils.core.setup(**attrs)\n",
      "    File \"C:\\Users\\zache\\anaconda4\\envs\\dev\\lib\\site-packages\\setuptools\\_distutils\\core.py\", line 185, in setup\n",
      "      return run_commands(dist)\n",
      "    File \"C:\\Users\\zache\\anaconda4\\envs\\dev\\lib\\site-packages\\setuptools\\_distutils\\core.py\", line 201, in run_commands\n",
      "      dist.run_commands()\n",
      "    File \"C:\\Users\\zache\\anaconda4\\envs\\dev\\lib\\site-packages\\setuptools\\_distutils\\dist.py\", line 968, in run_commands\n",
      "      self.run_command(cmd)\n",
      "    File \"C:\\Users\\zache\\anaconda4\\envs\\dev\\lib\\site-packages\\setuptools\\dist.py\", line 1217, in run_command\n",
      "      super().run_command(command)\n",
      "    File \"C:\\Users\\zache\\anaconda4\\envs\\dev\\lib\\site-packages\\setuptools\\_distutils\\dist.py\", line 987, in run_command\n",
      "      cmd_obj.run()\n",
      "    File \"C:\\Users\\zache\\anaconda4\\envs\\dev\\lib\\site-packages\\wheel\\bdist_wheel.py\", line 299, in run\n",
      "      self.run_command('build')\n",
      "    File \"C:\\Users\\zache\\anaconda4\\envs\\dev\\lib\\site-packages\\setuptools\\_distutils\\cmd.py\", line 319, in run_command\n",
      "      self.distribution.run_command(command)\n",
      "    File \"C:\\Users\\zache\\anaconda4\\envs\\dev\\lib\\site-packages\\setuptools\\dist.py\", line 1217, in run_command\n",
      "      super().run_command(command)\n",
      "    File \"C:\\Users\\zache\\anaconda4\\envs\\dev\\lib\\site-packages\\setuptools\\_distutils\\dist.py\", line 987, in run_command\n",
      "      cmd_obj.run()\n",
      "    File \"C:\\Users\\zache\\anaconda4\\envs\\dev\\lib\\site-packages\\setuptools\\_distutils\\command\\build.py\", line 132, in run\n",
      "      self.run_command(cmd_name)\n",
      "    File \"C:\\Users\\zache\\anaconda4\\envs\\dev\\lib\\site-packages\\setuptools\\_distutils\\cmd.py\", line 319, in run_command\n",
      "      self.distribution.run_command(command)\n",
      "    File \"C:\\Users\\zache\\anaconda4\\envs\\dev\\lib\\site-packages\\setuptools\\dist.py\", line 1217, in run_command\n",
      "      super().run_command(command)\n",
      "    File \"C:\\Users\\zache\\anaconda4\\envs\\dev\\lib\\site-packages\\setuptools\\_distutils\\dist.py\", line 987, in run_command\n",
      "      cmd_obj.run()\n",
      "    File \"C:\\Users\\zache\\AppData\\Local\\Temp\\pip-install-ldmslnxy\\fbprophet_14fec0d8f5264c0d91686b78b776b77d\\setup.py\", line 48, in run\n",
      "      build_models(target_dir)\n",
      "    File \"C:\\Users\\zache\\AppData\\Local\\Temp\\pip-install-ldmslnxy\\fbprophet_14fec0d8f5264c0d91686b78b776b77d\\setup.py\", line 36, in build_models\n",
      "      from fbprophet.models import StanBackendEnum\n",
      "    File \"<frozen importlib._bootstrap>\", line 983, in _find_and_load\n",
      "    File \"<frozen importlib._bootstrap>\", line 953, in _find_and_load_unlocked\n",
      "    File \"<frozen importlib._bootstrap>\", line 219, in _call_with_frames_removed\n",
      "    File \"<frozen importlib._bootstrap>\", line 983, in _find_and_load\n",
      "    File \"<frozen importlib._bootstrap>\", line 967, in _find_and_load_unlocked\n",
      "    File \"<frozen importlib._bootstrap>\", line 677, in _load_unlocked\n",
      "    File \"<frozen importlib._bootstrap_external>\", line 728, in exec_module\n",
      "    File \"<frozen importlib._bootstrap>\", line 219, in _call_with_frames_removed\n",
      "    File \"C:\\Users\\zache\\AppData\\Local\\Temp\\pip-install-ldmslnxy\\fbprophet_14fec0d8f5264c0d91686b78b776b77d\\fbprophet\\__init__.py\", line 8, in <module>\n",
      "      from fbprophet.forecaster import Prophet\n",
      "    File \"<frozen importlib._bootstrap>\", line 983, in _find_and_load\n",
      "    File \"<frozen importlib._bootstrap>\", line 967, in _find_and_load_unlocked\n",
      "    File \"<frozen importlib._bootstrap>\", line 677, in _load_unlocked\n",
      "    File \"<frozen importlib._bootstrap_external>\", line 728, in exec_module\n",
      "    File \"<frozen importlib._bootstrap>\", line 219, in _call_with_frames_removed\n",
      "    File \"C:\\Users\\zache\\AppData\\Local\\Temp\\pip-install-ldmslnxy\\fbprophet_14fec0d8f5264c0d91686b78b776b77d\\fbprophet\\forecaster.py\", line 15, in <module>\n",
      "      import pandas as pd\n",
      "    File \"<frozen importlib._bootstrap>\", line 983, in _find_and_load\n",
      "    File \"<frozen importlib._bootstrap>\", line 967, in _find_and_load_unlocked\n",
      "    File \"<frozen importlib._bootstrap>\", line 677, in _load_unlocked\n",
      "    File \"<frozen importlib._bootstrap_external>\", line 728, in exec_module\n",
      "    File \"<frozen importlib._bootstrap>\", line 219, in _call_with_frames_removed\n",
      "    File \"C:\\Users\\zache\\anaconda4\\envs\\dev\\lib\\site-packages\\pandas\\__init__.py\", line 50, in <module>\n",
      "      from pandas.core.api import (\n",
      "    File \"<frozen importlib._bootstrap>\", line 983, in _find_and_load\n",
      "    File \"<frozen importlib._bootstrap>\", line 967, in _find_and_load_unlocked\n",
      "    File \"<frozen importlib._bootstrap>\", line 677, in _load_unlocked\n",
      "    File \"<frozen importlib._bootstrap_external>\", line 728, in exec_module\n",
      "    File \"<frozen importlib._bootstrap>\", line 219, in _call_with_frames_removed\n",
      "    File \"C:\\Users\\zache\\anaconda4\\envs\\dev\\lib\\site-packages\\pandas\\core\\api.py\", line 29, in <module>\n",
      "      from pandas.core.arrays import Categorical\n",
      "    File \"<frozen importlib._bootstrap>\", line 983, in _find_and_load\n",
      "    File \"<frozen importlib._bootstrap>\", line 967, in _find_and_load_unlocked\n",
      "    File \"<frozen importlib._bootstrap>\", line 677, in _load_unlocked\n",
      "    File \"<frozen importlib._bootstrap_external>\", line 728, in exec_module\n",
      "    File \"<frozen importlib._bootstrap>\", line 219, in _call_with_frames_removed\n",
      "    File \"C:\\Users\\zache\\anaconda4\\envs\\dev\\lib\\site-packages\\pandas\\core\\arrays\\__init__.py\", line 1, in <module>\n",
      "      from pandas.core.arrays.base import (\n",
      "    File \"<frozen importlib._bootstrap>\", line 983, in _find_and_load\n",
      "    File \"<frozen importlib._bootstrap>\", line 967, in _find_and_load_unlocked\n",
      "    File \"<frozen importlib._bootstrap>\", line 677, in _load_unlocked\n",
      "    File \"<frozen importlib._bootstrap_external>\", line 728, in exec_module\n",
      "    File \"<frozen importlib._bootstrap>\", line 219, in _call_with_frames_removed\n",
      "    File \"C:\\Users\\zache\\anaconda4\\envs\\dev\\lib\\site-packages\\pandas\\core\\arrays\\base.py\", line 60, in <module>\n",
      "      from pandas.core import (\n",
      "    File \"<frozen importlib._bootstrap>\", line 1035, in _handle_fromlist\n",
      "    File \"<frozen importlib._bootstrap>\", line 219, in _call_with_frames_removed\n",
      "    File \"<frozen importlib._bootstrap>\", line 983, in _find_and_load\n",
      "    File \"<frozen importlib._bootstrap>\", line 967, in _find_and_load_unlocked\n",
      "    File \"<frozen importlib._bootstrap>\", line 677, in _load_unlocked\n",
      "    File \"<frozen importlib._bootstrap_external>\", line 728, in exec_module\n",
      "    File \"<frozen importlib._bootstrap>\", line 219, in _call_with_frames_removed\n",
      "    File \"C:\\Users\\zache\\anaconda4\\envs\\dev\\lib\\site-packages\\pandas\\core\\ops\\__init__.py\", line 32, in <module>\n",
      "      from pandas.core.ops.array_ops import (  # noqa:F401\n",
      "    File \"<frozen importlib._bootstrap>\", line 983, in _find_and_load\n",
      "    File \"<frozen importlib._bootstrap>\", line 967, in _find_and_load_unlocked\n",
      "    File \"<frozen importlib._bootstrap>\", line 677, in _load_unlocked\n",
      "    File \"<frozen importlib._bootstrap_external>\", line 728, in exec_module\n",
      "    File \"<frozen importlib._bootstrap>\", line 219, in _call_with_frames_removed\n",
      "    File \"C:\\Users\\zache\\anaconda4\\envs\\dev\\lib\\site-packages\\pandas\\core\\ops\\array_ops.py\", line 48, in <module>\n",
      "      import pandas.core.computation.expressions as expressions\n",
      "    File \"<frozen importlib._bootstrap>\", line 983, in _find_and_load\n",
      "    File \"<frozen importlib._bootstrap>\", line 967, in _find_and_load_unlocked\n",
      "    File \"<frozen importlib._bootstrap>\", line 677, in _load_unlocked\n",
      "    File \"<frozen importlib._bootstrap_external>\", line 728, in exec_module\n",
      "    File \"<frozen importlib._bootstrap>\", line 219, in _call_with_frames_removed\n",
      "    File \"C:\\Users\\zache\\anaconda4\\envs\\dev\\lib\\site-packages\\pandas\\core\\computation\\expressions.py\", line 19, in <module>\n",
      "      from pandas.core.computation.check import NUMEXPR_INSTALLED\n",
      "    File \"<frozen importlib._bootstrap>\", line 983, in _find_and_load\n",
      "    File \"<frozen importlib._bootstrap>\", line 967, in _find_and_load_unlocked\n",
      "    File \"<frozen importlib._bootstrap>\", line 677, in _load_unlocked\n",
      "    File \"<frozen importlib._bootstrap_external>\", line 728, in exec_module\n",
      "    File \"<frozen importlib._bootstrap>\", line 219, in _call_with_frames_removed\n",
      "    File \"C:\\Users\\zache\\anaconda4\\envs\\dev\\lib\\site-packages\\pandas\\core\\computation\\check.py\", line 3, in <module>\n",
      "      ne = import_optional_dependency(\"numexpr\", errors=\"warn\")\n",
      "    File \"C:\\Users\\zache\\anaconda4\\envs\\dev\\lib\\site-packages\\pandas\\compat\\_optional.py\", line 115, in import_optional_dependency\n",
      "      module = importlib.import_module(name)\n",
      "    File \"C:\\Users\\zache\\anaconda4\\envs\\dev\\lib\\importlib\\__init__.py\", line 127, in import_module\n",
      "      return _bootstrap._gcd_import(name[level:], package, level)\n",
      "    File \"<frozen importlib._bootstrap>\", line 1006, in _gcd_import\n",
      "    File \"<frozen importlib._bootstrap>\", line 983, in _find_and_load\n",
      "    File \"<frozen importlib._bootstrap>\", line 967, in _find_and_load_unlocked\n",
      "    File \"<frozen importlib._bootstrap>\", line 677, in _load_unlocked\n",
      "    File \"<frozen importlib._bootstrap_external>\", line 728, in exec_module\n",
      "    File \"<frozen importlib._bootstrap>\", line 219, in _call_with_frames_removed\n",
      "    File \"C:\\Users\\zache\\anaconda4\\envs\\dev\\lib\\site-packages\\numexpr\\__init__.py\", line 44, in <module>\n",
      "      nthreads = _init_num_threads()\n",
      "    File \"C:\\Users\\zache\\anaconda4\\envs\\dev\\lib\\site-packages\\numexpr\\utils.py\", line 160, in _init_num_threads\n",
      "      log.info('NumExpr defaulting to %d threads.'%n_cores)\n",
      "  Message: 'NumExpr defaulting to 8 threads.'\n",
      "  Arguments: ()\n",
      "  Traceback (most recent call last):\n",
      "    File \"<string>\", line 36, in <module>\n",
      "    File \"<pip-setuptools-caller>\", line 34, in <module>\n",
      "    File \"C:\\Users\\zache\\AppData\\Local\\Temp\\pip-install-ldmslnxy\\fbprophet_14fec0d8f5264c0d91686b78b776b77d\\setup.py\", line 149, in <module>\n",
      "      long_description_content_type='text/markdown',\n",
      "    File \"C:\\Users\\zache\\anaconda4\\envs\\dev\\lib\\site-packages\\setuptools\\__init__.py\", line 87, in setup\n",
      "      return distutils.core.setup(**attrs)\n",
      "    File \"C:\\Users\\zache\\anaconda4\\envs\\dev\\lib\\site-packages\\setuptools\\_distutils\\core.py\", line 185, in setup\n",
      "      return run_commands(dist)\n",
      "    File \"C:\\Users\\zache\\anaconda4\\envs\\dev\\lib\\site-packages\\setuptools\\_distutils\\core.py\", line 201, in run_commands\n",
      "      dist.run_commands()\n",
      "    File \"C:\\Users\\zache\\anaconda4\\envs\\dev\\lib\\site-packages\\setuptools\\_distutils\\dist.py\", line 968, in run_commands\n",
      "      self.run_command(cmd)\n",
      "    File \"C:\\Users\\zache\\anaconda4\\envs\\dev\\lib\\site-packages\\setuptools\\dist.py\", line 1217, in run_command\n",
      "      super().run_command(command)\n",
      "    File \"C:\\Users\\zache\\anaconda4\\envs\\dev\\lib\\site-packages\\setuptools\\_distutils\\dist.py\", line 987, in run_command\n",
      "      cmd_obj.run()\n",
      "    File \"C:\\Users\\zache\\anaconda4\\envs\\dev\\lib\\site-packages\\wheel\\bdist_wheel.py\", line 299, in run\n",
      "      self.run_command('build')\n",
      "    File \"C:\\Users\\zache\\anaconda4\\envs\\dev\\lib\\site-packages\\setuptools\\_distutils\\cmd.py\", line 319, in run_command\n",
      "      self.distribution.run_command(command)\n",
      "    File \"C:\\Users\\zache\\anaconda4\\envs\\dev\\lib\\site-packages\\setuptools\\dist.py\", line 1217, in run_command\n",
      "      super().run_command(command)\n",
      "    File \"C:\\Users\\zache\\anaconda4\\envs\\dev\\lib\\site-packages\\setuptools\\_distutils\\dist.py\", line 987, in run_command\n",
      "      cmd_obj.run()\n",
      "    File \"C:\\Users\\zache\\anaconda4\\envs\\dev\\lib\\site-packages\\setuptools\\_distutils\\command\\build.py\", line 132, in run\n",
      "      self.run_command(cmd_name)\n",
      "    File \"C:\\Users\\zache\\anaconda4\\envs\\dev\\lib\\site-packages\\setuptools\\_distutils\\cmd.py\", line 319, in run_command\n",
      "      self.distribution.run_command(command)\n",
      "    File \"C:\\Users\\zache\\anaconda4\\envs\\dev\\lib\\site-packages\\setuptools\\dist.py\", line 1217, in run_command\n",
      "      super().run_command(command)\n",
      "    File \"C:\\Users\\zache\\anaconda4\\envs\\dev\\lib\\site-packages\\setuptools\\_distutils\\dist.py\", line 987, in run_command\n",
      "      cmd_obj.run()\n",
      "    File \"C:\\Users\\zache\\AppData\\Local\\Temp\\pip-install-ldmslnxy\\fbprophet_14fec0d8f5264c0d91686b78b776b77d\\setup.py\", line 48, in run\n",
      "      build_models(target_dir)\n",
      "    File \"C:\\Users\\zache\\AppData\\Local\\Temp\\pip-install-ldmslnxy\\fbprophet_14fec0d8f5264c0d91686b78b776b77d\\setup.py\", line 36, in build_models\n",
      "      from fbprophet.models import StanBackendEnum\n",
      "    File \"C:\\Users\\zache\\AppData\\Local\\Temp\\pip-install-ldmslnxy\\fbprophet_14fec0d8f5264c0d91686b78b776b77d\\fbprophet\\__init__.py\", line 8, in <module>\n",
      "      from fbprophet.forecaster import Prophet\n",
      "    File \"C:\\Users\\zache\\AppData\\Local\\Temp\\pip-install-ldmslnxy\\fbprophet_14fec0d8f5264c0d91686b78b776b77d\\fbprophet\\forecaster.py\", line 17, in <module>\n",
      "      from fbprophet.make_holidays import get_holiday_names, make_holidays_df\n",
      "    File \"C:\\Users\\zache\\AppData\\Local\\Temp\\pip-install-ldmslnxy\\fbprophet_14fec0d8f5264c0d91686b78b776b77d\\fbprophet\\make_holidays.py\", line 14, in <module>\n",
      "      import fbprophet.hdays as hdays_part2\n",
      "    File \"C:\\Users\\zache\\AppData\\Local\\Temp\\pip-install-ldmslnxy\\fbprophet_14fec0d8f5264c0d91686b78b776b77d\\fbprophet\\hdays.py\", line 13, in <module>\n",
      "      from convertdate.islamic import from_gregorian, to_gregorian\n",
      "  ModuleNotFoundError: No module named 'convertdate'\n",
      "  [end of output]\n",
      "  \n",
      "  note: This error originates from a subprocess, and is likely not a problem with pip.\n",
      "  ERROR: Failed building wheel for fbprophet\n",
      "  error: subprocess-exited-with-error\n",
      "  \n",
      "  Running setup.py install for fbprophet did not run successfully.\n",
      "  exit code: 1\n",
      "  \n",
      "  [190 lines of output]\n",
      "  running install\n",
      "  C:\\Users\\zache\\anaconda4\\envs\\dev\\lib\\site-packages\\setuptools\\command\\install.py:37: SetuptoolsDeprecationWarning: setup.py install is deprecated. Use build and pip and other standards-based tools.\n",
      "    setuptools.SetuptoolsDeprecationWarning,\n",
      "  running build\n",
      "  running build_py\n",
      "  creating build\n",
      "  creating build\\lib\n",
      "  creating build\\lib\\fbprophet\n",
      "  creating build\\lib\\fbprophet\\stan_model\n",
      "  --- Logging error ---\n",
      "  Traceback (most recent call last):\n",
      "    File \"C:\\Users\\zache\\anaconda4\\envs\\dev\\lib\\logging\\__init__.py\", line 1028, in emit\n",
      "      stream.write(msg + self.terminator)\n",
      "  ValueError: underlying buffer has been detached\n",
      "  Call stack:\n",
      "    File \"<string>\", line 36, in <module>\n",
      "    File \"<pip-setuptools-caller>\", line 34, in <module>\n",
      "    File \"C:\\Users\\zache\\AppData\\Local\\Temp\\pip-install-ldmslnxy\\fbprophet_14fec0d8f5264c0d91686b78b776b77d\\setup.py\", line 149, in <module>\n",
      "      long_description_content_type='text/markdown',\n",
      "    File \"C:\\Users\\zache\\anaconda4\\envs\\dev\\lib\\site-packages\\setuptools\\__init__.py\", line 87, in setup\n",
      "      return distutils.core.setup(**attrs)\n",
      "    File \"C:\\Users\\zache\\anaconda4\\envs\\dev\\lib\\site-packages\\setuptools\\_distutils\\core.py\", line 185, in setup\n",
      "      return run_commands(dist)\n",
      "    File \"C:\\Users\\zache\\anaconda4\\envs\\dev\\lib\\site-packages\\setuptools\\_distutils\\core.py\", line 201, in run_commands\n",
      "      dist.run_commands()\n",
      "    File \"C:\\Users\\zache\\anaconda4\\envs\\dev\\lib\\site-packages\\setuptools\\_distutils\\dist.py\", line 968, in run_commands\n",
      "      self.run_command(cmd)\n",
      "    File \"C:\\Users\\zache\\anaconda4\\envs\\dev\\lib\\site-packages\\setuptools\\dist.py\", line 1217, in run_command\n",
      "      super().run_command(command)\n",
      "    File \"C:\\Users\\zache\\anaconda4\\envs\\dev\\lib\\site-packages\\setuptools\\_distutils\\dist.py\", line 987, in run_command\n",
      "      cmd_obj.run()\n",
      "    File \"C:\\Users\\zache\\anaconda4\\envs\\dev\\lib\\site-packages\\setuptools\\command\\install.py\", line 68, in run\n",
      "      return orig.install.run(self)\n",
      "    File \"C:\\Users\\zache\\anaconda4\\envs\\dev\\lib\\site-packages\\setuptools\\_distutils\\command\\install.py\", line 698, in run\n",
      "      self.run_command('build')\n",
      "    File \"C:\\Users\\zache\\anaconda4\\envs\\dev\\lib\\site-packages\\setuptools\\_distutils\\cmd.py\", line 319, in run_command\n",
      "      self.distribution.run_command(command)\n",
      "    File \"C:\\Users\\zache\\anaconda4\\envs\\dev\\lib\\site-packages\\setuptools\\dist.py\", line 1217, in run_command\n",
      "      super().run_command(command)\n",
      "    File \"C:\\Users\\zache\\anaconda4\\envs\\dev\\lib\\site-packages\\setuptools\\_distutils\\dist.py\", line 987, in run_command\n",
      "      cmd_obj.run()\n",
      "    File \"C:\\Users\\zache\\anaconda4\\envs\\dev\\lib\\site-packages\\setuptools\\_distutils\\command\\build.py\", line 132, in run\n",
      "      self.run_command(cmd_name)\n",
      "    File \"C:\\Users\\zache\\anaconda4\\envs\\dev\\lib\\site-packages\\setuptools\\_distutils\\cmd.py\", line 319, in run_command\n",
      "      self.distribution.run_command(command)\n",
      "    File \"C:\\Users\\zache\\anaconda4\\envs\\dev\\lib\\site-packages\\setuptools\\dist.py\", line 1217, in run_command\n",
      "      super().run_command(command)\n",
      "    File \"C:\\Users\\zache\\anaconda4\\envs\\dev\\lib\\site-packages\\setuptools\\_distutils\\dist.py\", line 987, in run_command\n",
      "      cmd_obj.run()\n",
      "    File \"C:\\Users\\zache\\AppData\\Local\\Temp\\pip-install-ldmslnxy\\fbprophet_14fec0d8f5264c0d91686b78b776b77d\\setup.py\", line 48, in run\n",
      "      build_models(target_dir)\n",
      "    File \"C:\\Users\\zache\\AppData\\Local\\Temp\\pip-install-ldmslnxy\\fbprophet_14fec0d8f5264c0d91686b78b776b77d\\setup.py\", line 36, in build_models\n",
      "      from fbprophet.models import StanBackendEnum\n",
      "    File \"<frozen importlib._bootstrap>\", line 983, in _find_and_load\n",
      "    File \"<frozen importlib._bootstrap>\", line 953, in _find_and_load_unlocked\n",
      "    File \"<frozen importlib._bootstrap>\", line 219, in _call_with_frames_removed\n",
      "    File \"<frozen importlib._bootstrap>\", line 983, in _find_and_load\n",
      "    File \"<frozen importlib._bootstrap>\", line 967, in _find_and_load_unlocked\n",
      "    File \"<frozen importlib._bootstrap>\", line 677, in _load_unlocked\n",
      "    File \"<frozen importlib._bootstrap_external>\", line 728, in exec_module\n",
      "    File \"<frozen importlib._bootstrap>\", line 219, in _call_with_frames_removed\n",
      "    File \"C:\\Users\\zache\\AppData\\Local\\Temp\\pip-install-ldmslnxy\\fbprophet_14fec0d8f5264c0d91686b78b776b77d\\fbprophet\\__init__.py\", line 8, in <module>\n",
      "      from fbprophet.forecaster import Prophet\n",
      "    File \"<frozen importlib._bootstrap>\", line 983, in _find_and_load\n",
      "    File \"<frozen importlib._bootstrap>\", line 967, in _find_and_load_unlocked\n",
      "    File \"<frozen importlib._bootstrap>\", line 677, in _load_unlocked\n",
      "    File \"<frozen importlib._bootstrap_external>\", line 728, in exec_module\n",
      "    File \"<frozen importlib._bootstrap>\", line 219, in _call_with_frames_removed\n",
      "    File \"C:\\Users\\zache\\AppData\\Local\\Temp\\pip-install-ldmslnxy\\fbprophet_14fec0d8f5264c0d91686b78b776b77d\\fbprophet\\forecaster.py\", line 15, in <module>\n",
      "      import pandas as pd\n",
      "    File \"<frozen importlib._bootstrap>\", line 983, in _find_and_load\n",
      "    File \"<frozen importlib._bootstrap>\", line 967, in _find_and_load_unlocked\n",
      "    File \"<frozen importlib._bootstrap>\", line 677, in _load_unlocked\n",
      "    File \"<frozen importlib._bootstrap_external>\", line 728, in exec_module\n",
      "    File \"<frozen importlib._bootstrap>\", line 219, in _call_with_frames_removed\n",
      "    File \"C:\\Users\\zache\\anaconda4\\envs\\dev\\lib\\site-packages\\pandas\\__init__.py\", line 50, in <module>\n",
      "      from pandas.core.api import (\n",
      "    File \"<frozen importlib._bootstrap>\", line 983, in _find_and_load\n",
      "    File \"<frozen importlib._bootstrap>\", line 967, in _find_and_load_unlocked\n",
      "    File \"<frozen importlib._bootstrap>\", line 677, in _load_unlocked\n",
      "    File \"<frozen importlib._bootstrap_external>\", line 728, in exec_module\n",
      "    File \"<frozen importlib._bootstrap>\", line 219, in _call_with_frames_removed\n",
      "    File \"C:\\Users\\zache\\anaconda4\\envs\\dev\\lib\\site-packages\\pandas\\core\\api.py\", line 29, in <module>\n",
      "      from pandas.core.arrays import Categorical\n",
      "    File \"<frozen importlib._bootstrap>\", line 983, in _find_and_load\n",
      "    File \"<frozen importlib._bootstrap>\", line 967, in _find_and_load_unlocked\n",
      "    File \"<frozen importlib._bootstrap>\", line 677, in _load_unlocked\n",
      "    File \"<frozen importlib._bootstrap_external>\", line 728, in exec_module\n",
      "    File \"<frozen importlib._bootstrap>\", line 219, in _call_with_frames_removed\n",
      "    File \"C:\\Users\\zache\\anaconda4\\envs\\dev\\lib\\site-packages\\pandas\\core\\arrays\\__init__.py\", line 1, in <module>\n",
      "      from pandas.core.arrays.base import (\n",
      "    File \"<frozen importlib._bootstrap>\", line 983, in _find_and_load\n",
      "    File \"<frozen importlib._bootstrap>\", line 967, in _find_and_load_unlocked\n",
      "    File \"<frozen importlib._bootstrap>\", line 677, in _load_unlocked\n",
      "    File \"<frozen importlib._bootstrap_external>\", line 728, in exec_module\n",
      "    File \"<frozen importlib._bootstrap>\", line 219, in _call_with_frames_removed\n",
      "    File \"C:\\Users\\zache\\anaconda4\\envs\\dev\\lib\\site-packages\\pandas\\core\\arrays\\base.py\", line 60, in <module>\n",
      "      from pandas.core import (\n",
      "    File \"<frozen importlib._bootstrap>\", line 1035, in _handle_fromlist\n",
      "    File \"<frozen importlib._bootstrap>\", line 219, in _call_with_frames_removed\n",
      "    File \"<frozen importlib._bootstrap>\", line 983, in _find_and_load\n",
      "    File \"<frozen importlib._bootstrap>\", line 967, in _find_and_load_unlocked\n",
      "    File \"<frozen importlib._bootstrap>\", line 677, in _load_unlocked\n",
      "    File \"<frozen importlib._bootstrap_external>\", line 728, in exec_module\n",
      "    File \"<frozen importlib._bootstrap>\", line 219, in _call_with_frames_removed\n",
      "    File \"C:\\Users\\zache\\anaconda4\\envs\\dev\\lib\\site-packages\\pandas\\core\\ops\\__init__.py\", line 32, in <module>\n",
      "      from pandas.core.ops.array_ops import (  # noqa:F401\n",
      "    File \"<frozen importlib._bootstrap>\", line 983, in _find_and_load\n",
      "    File \"<frozen importlib._bootstrap>\", line 967, in _find_and_load_unlocked\n",
      "    File \"<frozen importlib._bootstrap>\", line 677, in _load_unlocked\n",
      "    File \"<frozen importlib._bootstrap_external>\", line 728, in exec_module\n",
      "    File \"<frozen importlib._bootstrap>\", line 219, in _call_with_frames_removed\n",
      "    File \"C:\\Users\\zache\\anaconda4\\envs\\dev\\lib\\site-packages\\pandas\\core\\ops\\array_ops.py\", line 48, in <module>\n",
      "      import pandas.core.computation.expressions as expressions\n",
      "    File \"<frozen importlib._bootstrap>\", line 983, in _find_and_load\n",
      "    File \"<frozen importlib._bootstrap>\", line 967, in _find_and_load_unlocked\n",
      "    File \"<frozen importlib._bootstrap>\", line 677, in _load_unlocked\n",
      "    File \"<frozen importlib._bootstrap_external>\", line 728, in exec_module\n",
      "    File \"<frozen importlib._bootstrap>\", line 219, in _call_with_frames_removed\n",
      "    File \"C:\\Users\\zache\\anaconda4\\envs\\dev\\lib\\site-packages\\pandas\\core\\computation\\expressions.py\", line 19, in <module>\n",
      "      from pandas.core.computation.check import NUMEXPR_INSTALLED\n",
      "    File \"<frozen importlib._bootstrap>\", line 983, in _find_and_load\n",
      "    File \"<frozen importlib._bootstrap>\", line 967, in _find_and_load_unlocked\n",
      "    File \"<frozen importlib._bootstrap>\", line 677, in _load_unlocked\n",
      "    File \"<frozen importlib._bootstrap_external>\", line 728, in exec_module\n",
      "    File \"<frozen importlib._bootstrap>\", line 219, in _call_with_frames_removed\n",
      "    File \"C:\\Users\\zache\\anaconda4\\envs\\dev\\lib\\site-packages\\pandas\\core\\computation\\check.py\", line 3, in <module>\n",
      "      ne = import_optional_dependency(\"numexpr\", errors=\"warn\")\n",
      "    File \"C:\\Users\\zache\\anaconda4\\envs\\dev\\lib\\site-packages\\pandas\\compat\\_optional.py\", line 115, in import_optional_dependency\n",
      "      module = importlib.import_module(name)\n",
      "    File \"C:\\Users\\zache\\anaconda4\\envs\\dev\\lib\\importlib\\__init__.py\", line 127, in import_module\n",
      "      return _bootstrap._gcd_import(name[level:], package, level)\n",
      "    File \"<frozen importlib._bootstrap>\", line 1006, in _gcd_import\n",
      "    File \"<frozen importlib._bootstrap>\", line 983, in _find_and_load\n",
      "    File \"<frozen importlib._bootstrap>\", line 967, in _find_and_load_unlocked\n",
      "    File \"<frozen importlib._bootstrap>\", line 677, in _load_unlocked\n",
      "    File \"<frozen importlib._bootstrap_external>\", line 728, in exec_module\n",
      "    File \"<frozen importlib._bootstrap>\", line 219, in _call_with_frames_removed\n",
      "    File \"C:\\Users\\zache\\anaconda4\\envs\\dev\\lib\\site-packages\\numexpr\\__init__.py\", line 44, in <module>\n",
      "      nthreads = _init_num_threads()\n",
      "    File \"C:\\Users\\zache\\anaconda4\\envs\\dev\\lib\\site-packages\\numexpr\\utils.py\", line 160, in _init_num_threads\n",
      "      log.info('NumExpr defaulting to %d threads.'%n_cores)\n",
      "  Message: 'NumExpr defaulting to 8 threads.'\n",
      "  Arguments: ()\n",
      "  Traceback (most recent call last):\n",
      "    File \"<string>\", line 36, in <module>\n",
      "    File \"<pip-setuptools-caller>\", line 34, in <module>\n",
      "    File \"C:\\Users\\zache\\AppData\\Local\\Temp\\pip-install-ldmslnxy\\fbprophet_14fec0d8f5264c0d91686b78b776b77d\\setup.py\", line 149, in <module>\n",
      "      long_description_content_type='text/markdown',\n",
      "    File \"C:\\Users\\zache\\anaconda4\\envs\\dev\\lib\\site-packages\\setuptools\\__init__.py\", line 87, in setup\n",
      "      return distutils.core.setup(**attrs)\n",
      "    File \"C:\\Users\\zache\\anaconda4\\envs\\dev\\lib\\site-packages\\setuptools\\_distutils\\core.py\", line 185, in setup\n",
      "      return run_commands(dist)\n",
      "    File \"C:\\Users\\zache\\anaconda4\\envs\\dev\\lib\\site-packages\\setuptools\\_distutils\\core.py\", line 201, in run_commands\n",
      "      dist.run_commands()\n",
      "    File \"C:\\Users\\zache\\anaconda4\\envs\\dev\\lib\\site-packages\\setuptools\\_distutils\\dist.py\", line 968, in run_commands\n",
      "      self.run_command(cmd)\n",
      "    File \"C:\\Users\\zache\\anaconda4\\envs\\dev\\lib\\site-packages\\setuptools\\dist.py\", line 1217, in run_command\n",
      "      super().run_command(command)\n",
      "    File \"C:\\Users\\zache\\anaconda4\\envs\\dev\\lib\\site-packages\\setuptools\\_distutils\\dist.py\", line 987, in run_command\n",
      "      cmd_obj.run()\n",
      "    File \"C:\\Users\\zache\\anaconda4\\envs\\dev\\lib\\site-packages\\setuptools\\command\\install.py\", line 68, in run\n",
      "      return orig.install.run(self)\n",
      "    File \"C:\\Users\\zache\\anaconda4\\envs\\dev\\lib\\site-packages\\setuptools\\_distutils\\command\\install.py\", line 698, in run\n",
      "      self.run_command('build')\n",
      "    File \"C:\\Users\\zache\\anaconda4\\envs\\dev\\lib\\site-packages\\setuptools\\_distutils\\cmd.py\", line 319, in run_command\n",
      "      self.distribution.run_command(command)\n",
      "    File \"C:\\Users\\zache\\anaconda4\\envs\\dev\\lib\\site-packages\\setuptools\\dist.py\", line 1217, in run_command\n",
      "      super().run_command(command)\n",
      "    File \"C:\\Users\\zache\\anaconda4\\envs\\dev\\lib\\site-packages\\setuptools\\_distutils\\dist.py\", line 987, in run_command\n",
      "      cmd_obj.run()\n",
      "    File \"C:\\Users\\zache\\anaconda4\\envs\\dev\\lib\\site-packages\\setuptools\\_distutils\\command\\build.py\", line 132, in run\n",
      "      self.run_command(cmd_name)\n",
      "    File \"C:\\Users\\zache\\anaconda4\\envs\\dev\\lib\\site-packages\\setuptools\\_distutils\\cmd.py\", line 319, in run_command\n",
      "      self.distribution.run_command(command)\n",
      "    File \"C:\\Users\\zache\\anaconda4\\envs\\dev\\lib\\site-packages\\setuptools\\dist.py\", line 1217, in run_command\n",
      "      super().run_command(command)\n",
      "    File \"C:\\Users\\zache\\anaconda4\\envs\\dev\\lib\\site-packages\\setuptools\\_distutils\\dist.py\", line 987, in run_command\n",
      "      cmd_obj.run()\n",
      "    File \"C:\\Users\\zache\\AppData\\Local\\Temp\\pip-install-ldmslnxy\\fbprophet_14fec0d8f5264c0d91686b78b776b77d\\setup.py\", line 48, in run\n",
      "      build_models(target_dir)\n",
      "    File \"C:\\Users\\zache\\AppData\\Local\\Temp\\pip-install-ldmslnxy\\fbprophet_14fec0d8f5264c0d91686b78b776b77d\\setup.py\", line 38, in build_models\n",
      "      StanBackendEnum.get_backend_class(backend).build_model(target_dir, MODEL_DIR)\n",
      "    File \"C:\\Users\\zache\\AppData\\Local\\Temp\\pip-install-ldmslnxy\\fbprophet_14fec0d8f5264c0d91686b78b776b77d\\fbprophet\\models.py\", line 209, in build_model\n",
      "      import pystan\n",
      "    File \"C:\\Users\\zache\\anaconda4\\envs\\dev\\lib\\site-packages\\pystan\\__init__.py\", line 9, in <module>\n",
      "      from pystan.api import stanc, stan\n",
      "    File \"C:\\Users\\zache\\anaconda4\\envs\\dev\\lib\\site-packages\\pystan\\api.py\", line 13, in <module>\n",
      "      import pystan._api  # stanc wrapper\n",
      "  ImportError: DLL load failed: The specified module could not be found.\n",
      "  [end of output]\n",
      "  \n",
      "  note: This error originates from a subprocess, and is likely not a problem with pip.\n",
      "error: legacy-install-failure\n",
      "\n",
      "Encountered error while trying to install package.\n",
      "\n",
      "fbprophet\n",
      "\n",
      "note: This is an issue with the package mentioned above, not pip.\n",
      "hint: See above for output from the failure.\n"
     ]
    },
    {
     "name": "stdout",
     "output_type": "stream",
     "text": [
      "Requirement already satisfied: hvplot in c:\\users\\zache\\anaconda4\\envs\\dev\\lib\\site-packages (0.8.2)\n",
      "Requirement already satisfied: pandas in c:\\users\\zache\\anaconda4\\envs\\dev\\lib\\site-packages (from hvplot) (1.3.5)\n",
      "Requirement already satisfied: panel>=0.11.0 in c:\\users\\zache\\anaconda4\\envs\\dev\\lib\\site-packages (from hvplot) (0.14.1)\n",
      "Requirement already satisfied: holoviews>=1.11.0 in c:\\users\\zache\\anaconda4\\envs\\dev\\lib\\site-packages (from hvplot) (1.15.2)\n",
      "Requirement already satisfied: numpy>=1.15 in c:\\users\\zache\\anaconda4\\envs\\dev\\lib\\site-packages (from hvplot) (1.21.5)\n",
      "Requirement already satisfied: bokeh>=1.0.0 in c:\\users\\zache\\anaconda4\\envs\\dev\\lib\\site-packages (from hvplot) (2.4.3)\n",
      "Requirement already satisfied: packaging in c:\\users\\zache\\anaconda4\\envs\\dev\\lib\\site-packages (from hvplot) (21.3)\n",
      "Requirement already satisfied: colorcet>=2 in c:\\users\\zache\\anaconda4\\envs\\dev\\lib\\site-packages (from hvplot) (3.0.1)\n",
      "Requirement already satisfied: PyYAML>=3.10 in c:\\users\\zache\\anaconda4\\envs\\dev\\lib\\site-packages (from bokeh>=1.0.0->hvplot) (6.0)\n",
      "Requirement already satisfied: pillow>=7.1.0 in c:\\users\\zache\\anaconda4\\envs\\dev\\lib\\site-packages (from bokeh>=1.0.0->hvplot) (9.2.0)\n",
      "Requirement already satisfied: Jinja2>=2.9 in c:\\users\\zache\\anaconda4\\envs\\dev\\lib\\site-packages (from bokeh>=1.0.0->hvplot) (3.1.2)\n",
      "Requirement already satisfied: typing-extensions>=3.10.0 in c:\\users\\zache\\anaconda4\\envs\\dev\\lib\\site-packages (from bokeh>=1.0.0->hvplot) (4.4.0)\n",
      "Requirement already satisfied: tornado>=5.1 in c:\\users\\zache\\anaconda4\\envs\\dev\\lib\\site-packages (from bokeh>=1.0.0->hvplot) (6.2)\n",
      "Requirement already satisfied: pyct>=0.4.4 in c:\\users\\zache\\anaconda4\\envs\\dev\\lib\\site-packages (from colorcet>=2->hvplot) (0.4.8)\n",
      "Requirement already satisfied: param<2.0,>=1.9.3 in c:\\users\\zache\\anaconda4\\envs\\dev\\lib\\site-packages (from holoviews>=1.11.0->hvplot) (1.12.2)\n",
      "Requirement already satisfied: pyviz-comms>=0.7.4 in c:\\users\\zache\\anaconda4\\envs\\dev\\lib\\site-packages (from holoviews>=1.11.0->hvplot) (2.0.2)\n",
      "Requirement already satisfied: pyparsing!=3.0.5,>=2.0.2 in c:\\users\\zache\\anaconda4\\envs\\dev\\lib\\site-packages (from packaging->hvplot) (3.0.9)\n",
      "Requirement already satisfied: python-dateutil>=2.7.3 in c:\\users\\zache\\anaconda4\\envs\\dev\\lib\\site-packages (from pandas->hvplot) (2.8.2)\n",
      "Requirement already satisfied: pytz>=2017.3 in c:\\users\\zache\\anaconda4\\envs\\dev\\lib\\site-packages (from pandas->hvplot) (2022.1)\n",
      "Requirement already satisfied: bleach in c:\\users\\zache\\anaconda4\\envs\\dev\\lib\\site-packages (from panel>=0.11.0->hvplot) (4.1.0)\n",
      "Requirement already satisfied: markdown in c:\\users\\zache\\anaconda4\\envs\\dev\\lib\\site-packages (from panel>=0.11.0->hvplot) (3.3.4)\n",
      "Requirement already satisfied: tqdm>=4.48.0 in c:\\users\\zache\\anaconda4\\envs\\dev\\lib\\site-packages (from panel>=0.11.0->hvplot) (4.64.1)\n",
      "Requirement already satisfied: requests in c:\\users\\zache\\anaconda4\\envs\\dev\\lib\\site-packages (from panel>=0.11.0->hvplot) (2.28.1)\n",
      "Requirement already satisfied: setuptools in c:\\users\\zache\\anaconda4\\envs\\dev\\lib\\site-packages (from panel>=0.11.0->hvplot) (65.5.0)\n",
      "Requirement already satisfied: MarkupSafe>=2.0 in c:\\users\\zache\\anaconda4\\envs\\dev\\lib\\site-packages (from Jinja2>=2.9->bokeh>=1.0.0->hvplot) (2.1.1)\n",
      "Requirement already satisfied: six>=1.5 in c:\\users\\zache\\anaconda4\\envs\\dev\\lib\\site-packages (from python-dateutil>=2.7.3->pandas->hvplot) (1.16.0)\n",
      "Requirement already satisfied: colorama in c:\\users\\zache\\anaconda4\\envs\\dev\\lib\\site-packages (from tqdm>=4.48.0->panel>=0.11.0->hvplot) (0.4.5)\n",
      "Requirement already satisfied: webencodings in c:\\users\\zache\\anaconda4\\envs\\dev\\lib\\site-packages (from bleach->panel>=0.11.0->hvplot) (0.5.1)\n",
      "Requirement already satisfied: importlib-metadata in c:\\users\\zache\\anaconda4\\envs\\dev\\lib\\site-packages (from markdown->panel>=0.11.0->hvplot) (4.11.3)\n",
      "Requirement already satisfied: urllib3<1.27,>=1.21.1 in c:\\users\\zache\\anaconda4\\envs\\dev\\lib\\site-packages (from requests->panel>=0.11.0->hvplot) (1.26.13)\n",
      "Requirement already satisfied: certifi>=2017.4.17 in c:\\users\\zache\\anaconda4\\envs\\dev\\lib\\site-packages (from requests->panel>=0.11.0->hvplot) (2022.9.24)\n",
      "Requirement already satisfied: charset-normalizer<3,>=2 in c:\\users\\zache\\anaconda4\\envs\\dev\\lib\\site-packages (from requests->panel>=0.11.0->hvplot) (2.0.4)\n",
      "Requirement already satisfied: idna<4,>=2.5 in c:\\users\\zache\\anaconda4\\envs\\dev\\lib\\site-packages (from requests->panel>=0.11.0->hvplot) (3.4)\n",
      "Requirement already satisfied: zipp>=0.5 in c:\\users\\zache\\anaconda4\\envs\\dev\\lib\\site-packages (from importlib-metadata->markdown->panel>=0.11.0->hvplot) (3.8.0)\n",
      "Note: you may need to restart the kernel to use updated packages.\n",
      "Requirement already satisfied: holoviews in c:\\users\\zache\\anaconda4\\envs\\dev\\lib\\site-packages (1.15.2)\n",
      "Requirement already satisfied: numpy>=1.0 in c:\\users\\zache\\anaconda4\\envs\\dev\\lib\\site-packages (from holoviews) (1.21.5)\n",
      "Requirement already satisfied: pyviz-comms>=0.7.4 in c:\\users\\zache\\anaconda4\\envs\\dev\\lib\\site-packages (from holoviews) (2.0.2)\n",
      "Requirement already satisfied: panel>=0.13.1 in c:\\users\\zache\\anaconda4\\envs\\dev\\lib\\site-packages (from holoviews) (0.14.1)\n",
      "Requirement already satisfied: pandas>=0.20.0 in c:\\users\\zache\\anaconda4\\envs\\dev\\lib\\site-packages (from holoviews) (1.3.5)\n",
      "Requirement already satisfied: colorcet in c:\\users\\zache\\anaconda4\\envs\\dev\\lib\\site-packages (from holoviews) (3.0.1)\n",
      "Requirement already satisfied: packaging in c:\\users\\zache\\anaconda4\\envs\\dev\\lib\\site-packages (from holoviews) (21.3)\n",
      "Requirement already satisfied: param<2.0,>=1.9.3 in c:\\users\\zache\\anaconda4\\envs\\dev\\lib\\site-packages (from holoviews) (1.12.2)\n",
      "Requirement already satisfied: pytz>=2017.3 in c:\\users\\zache\\anaconda4\\envs\\dev\\lib\\site-packages (from pandas>=0.20.0->holoviews) (2022.1)\n",
      "Requirement already satisfied: python-dateutil>=2.7.3 in c:\\users\\zache\\anaconda4\\envs\\dev\\lib\\site-packages (from pandas>=0.20.0->holoviews) (2.8.2)\n",
      "Requirement already satisfied: pyct>=0.4.4 in c:\\users\\zache\\anaconda4\\envs\\dev\\lib\\site-packages (from panel>=0.13.1->holoviews) (0.4.8)\n",
      "Requirement already satisfied: typing-extensions in c:\\users\\zache\\anaconda4\\envs\\dev\\lib\\site-packages (from panel>=0.13.1->holoviews) (4.4.0)\n",
      "Requirement already satisfied: requests in c:\\users\\zache\\anaconda4\\envs\\dev\\lib\\site-packages (from panel>=0.13.1->holoviews) (2.28.1)\n",
      "Requirement already satisfied: bleach in c:\\users\\zache\\anaconda4\\envs\\dev\\lib\\site-packages (from panel>=0.13.1->holoviews) (4.1.0)\n",
      "Requirement already satisfied: bokeh<2.5.0,>=2.4.0 in c:\\users\\zache\\anaconda4\\envs\\dev\\lib\\site-packages (from panel>=0.13.1->holoviews) (2.4.3)\n",
      "Requirement already satisfied: setuptools in c:\\users\\zache\\anaconda4\\envs\\dev\\lib\\site-packages (from panel>=0.13.1->holoviews) (65.5.0)\n",
      "Requirement already satisfied: tqdm>=4.48.0 in c:\\users\\zache\\anaconda4\\envs\\dev\\lib\\site-packages (from panel>=0.13.1->holoviews) (4.64.1)\n",
      "Requirement already satisfied: markdown in c:\\users\\zache\\anaconda4\\envs\\dev\\lib\\site-packages (from panel>=0.13.1->holoviews) (3.3.4)\n",
      "Requirement already satisfied: pyparsing!=3.0.5,>=2.0.2 in c:\\users\\zache\\anaconda4\\envs\\dev\\lib\\site-packages (from packaging->holoviews) (3.0.9)\n",
      "Requirement already satisfied: pillow>=7.1.0 in c:\\users\\zache\\anaconda4\\envs\\dev\\lib\\site-packages (from bokeh<2.5.0,>=2.4.0->panel>=0.13.1->holoviews) (9.2.0)\n",
      "Requirement already satisfied: PyYAML>=3.10 in c:\\users\\zache\\anaconda4\\envs\\dev\\lib\\site-packages (from bokeh<2.5.0,>=2.4.0->panel>=0.13.1->holoviews) (6.0)\n",
      "Requirement already satisfied: Jinja2>=2.9 in c:\\users\\zache\\anaconda4\\envs\\dev\\lib\\site-packages (from bokeh<2.5.0,>=2.4.0->panel>=0.13.1->holoviews) (3.1.2)\n",
      "Requirement already satisfied: tornado>=5.1 in c:\\users\\zache\\anaconda4\\envs\\dev\\lib\\site-packages (from bokeh<2.5.0,>=2.4.0->panel>=0.13.1->holoviews) (6.2)\n",
      "Requirement already satisfied: six>=1.5 in c:\\users\\zache\\anaconda4\\envs\\dev\\lib\\site-packages (from python-dateutil>=2.7.3->pandas>=0.20.0->holoviews) (1.16.0)\n",
      "Requirement already satisfied: colorama in c:\\users\\zache\\anaconda4\\envs\\dev\\lib\\site-packages (from tqdm>=4.48.0->panel>=0.13.1->holoviews) (0.4.5)\n",
      "Requirement already satisfied: webencodings in c:\\users\\zache\\anaconda4\\envs\\dev\\lib\\site-packages (from bleach->panel>=0.13.1->holoviews) (0.5.1)\n",
      "Requirement already satisfied: importlib-metadata in c:\\users\\zache\\anaconda4\\envs\\dev\\lib\\site-packages (from markdown->panel>=0.13.1->holoviews) (4.11.3)\n",
      "Requirement already satisfied: idna<4,>=2.5 in c:\\users\\zache\\anaconda4\\envs\\dev\\lib\\site-packages (from requests->panel>=0.13.1->holoviews) (3.4)\n",
      "Requirement already satisfied: urllib3<1.27,>=1.21.1 in c:\\users\\zache\\anaconda4\\envs\\dev\\lib\\site-packages (from requests->panel>=0.13.1->holoviews) (1.26.13)\n",
      "Requirement already satisfied: charset-normalizer<3,>=2 in c:\\users\\zache\\anaconda4\\envs\\dev\\lib\\site-packages (from requests->panel>=0.13.1->holoviews) (2.0.4)\n",
      "Requirement already satisfied: certifi>=2017.4.17 in c:\\users\\zache\\anaconda4\\envs\\dev\\lib\\site-packages (from requests->panel>=0.13.1->holoviews) (2022.9.24)\n",
      "Requirement already satisfied: MarkupSafe>=2.0 in c:\\users\\zache\\anaconda4\\envs\\dev\\lib\\site-packages (from Jinja2>=2.9->bokeh<2.5.0,>=2.4.0->panel>=0.13.1->holoviews) (2.1.1)\n",
      "Requirement already satisfied: zipp>=0.5 in c:\\users\\zache\\anaconda4\\envs\\dev\\lib\\site-packages (from importlib-metadata->markdown->panel>=0.13.1->holoviews) (3.8.0)\n",
      "Note: you may need to restart the kernel to use updated packages.\n"
     ]
    }
   ],
   "source": [
    "# Install the required libraries\n",
    "%pip install pystan\n",
    "%pip install fbprophet\n",
    "%pip install hvplot\n",
    "%pip install holoviews"
   ]
  },
  {
   "cell_type": "code",
   "execution_count": 2,
   "metadata": {},
   "outputs": [
    {
     "ename": "ModuleNotFoundError",
     "evalue": "No module named 'fbprophet'",
     "output_type": "error",
     "traceback": [
      "\u001b[1;31m---------------------------------------------------------------------------\u001b[0m",
      "\u001b[1;31mModuleNotFoundError\u001b[0m                       Traceback (most recent call last)",
      "\u001b[1;32m~\\AppData\\Local\\Temp\\ipykernel_25432\\1605780709.py\u001b[0m in \u001b[0;36m<module>\u001b[1;34m\u001b[0m\n\u001b[0;32m      2\u001b[0m \u001b[1;32mimport\u001b[0m \u001b[0mpandas\u001b[0m \u001b[1;32mas\u001b[0m \u001b[0mpd\u001b[0m\u001b[1;33m\u001b[0m\u001b[1;33m\u001b[0m\u001b[0m\n\u001b[0;32m      3\u001b[0m \u001b[1;32mimport\u001b[0m \u001b[0mholoviews\u001b[0m \u001b[1;32mas\u001b[0m \u001b[0mhv\u001b[0m\u001b[1;33m\u001b[0m\u001b[1;33m\u001b[0m\u001b[0m\n\u001b[1;32m----> 4\u001b[1;33m \u001b[1;32mfrom\u001b[0m \u001b[0mfbprophet\u001b[0m \u001b[1;32mimport\u001b[0m \u001b[0mProphet\u001b[0m\u001b[1;33m\u001b[0m\u001b[1;33m\u001b[0m\u001b[0m\n\u001b[0m\u001b[0;32m      5\u001b[0m \u001b[1;32mimport\u001b[0m \u001b[0mhvplot\u001b[0m\u001b[1;33m.\u001b[0m\u001b[0mpandas\u001b[0m\u001b[1;33m\u001b[0m\u001b[1;33m\u001b[0m\u001b[0m\n\u001b[0;32m      6\u001b[0m \u001b[1;32mimport\u001b[0m \u001b[0mdatetime\u001b[0m \u001b[1;32mas\u001b[0m \u001b[0mdt\u001b[0m\u001b[1;33m\u001b[0m\u001b[1;33m\u001b[0m\u001b[0m\n",
      "\u001b[1;31mModuleNotFoundError\u001b[0m: No module named 'fbprophet'"
     ]
    }
   ],
   "source": [
    "# Import the required libraries and dependencies\n",
    "import pandas as pd\n",
    "import holoviews as hv\n",
    "from fbprophet import Prophet\n",
    "import hvplot.pandas\n",
    "import datetime as dt\n",
    "%matplotlib inline"
   ]
  },
  {
   "cell_type": "markdown",
   "metadata": {},
   "source": [
    "## Step 1: Find Unusual Patterns in Hourly Google Search Traffic\n",
    "\n",
    "The data science manager asks if the Google search traffic for the company links to any financial events at the company. Or, does the search traffic data just present random noise? To answer this question, pick out any unusual patterns in the Google search data for the company, and connect them to the corporate financial events.\n",
    "\n",
    "To do so, complete the following steps:\n",
    "\n",
    "1. Read the search data into a DataFrame, and then slice the data to just the month of May 2020. (During this month, MercadoLibre released its quarterly financial results.) Use hvPlot to visualize the results. Do any unusual patterns exist?\n",
    "\n",
    "2. Calculate the total search traffic for the month, and then compare the value to the monthly median across all months. Did the Google search traffic increase during the month that MercadoLibre released its financial results?\n"
   ]
  },
  {
   "cell_type": "markdown",
   "metadata": {},
   "source": [
    "#### Step 1: Read the search data into a DataFrame, and then slice the data to just the month of May 2020. (During this month, MercadoLibre released its quarterly financial results.) Use hvPlot to visualize the results. Do any unusual patterns exist?"
   ]
  },
  {
   "cell_type": "code",
   "execution_count": null,
   "metadata": {},
   "outputs": [],
   "source": [
    "# Upload the \"google_hourly_search_trends.csv\" file into Colab, then store in a Pandas DataFrame\n",
    "# Set the \"Date\" column as the Datetime Index.\n",
    "\n",
    "from google.colab import files\n",
    "uploaded = files.upload()\n",
    "\n",
    "df_mercado_trends = # YOUR CODE HERE\n",
    "\n",
    "# Review the first and last five rows of the DataFrame\n",
    "# YOUR CODE HERE\n"
   ]
  },
  {
   "cell_type": "code",
   "execution_count": null,
   "metadata": {},
   "outputs": [],
   "source": [
    "# Review the data types of the DataFrame using the info function\n",
    "# YOUR CODE HERE\n"
   ]
  },
  {
   "cell_type": "code",
   "execution_count": null,
   "metadata": {},
   "outputs": [],
   "source": [
    "# Holoviews extension to render hvPlots in Colab\n",
    "hv.extension('bokeh')\n",
    "\n",
    "# Slice the DataFrame to just the month of May 2020\n",
    "df_may_2020 = # YOUR CODE HERE\n",
    "\n",
    "# Use hvPlot to visualize the data for May 2020\n",
    "# YOUR CODE HERE\n"
   ]
  },
  {
   "cell_type": "markdown",
   "metadata": {},
   "source": [
    "#### Step 2: Calculate the total search traffic for the month, and then compare the value to the monthly median across all months. Did the Google search traffic increase during the month that MercadoLibre released its financial results?"
   ]
  },
  {
   "cell_type": "code",
   "execution_count": null,
   "metadata": {},
   "outputs": [],
   "source": [
    "# Calculate the sum of the total search traffic for May 2020\n",
    "traffic_may_2020 = # YOUR CODE HERE\n",
    "\n",
    "# View the traffic_may_2020 value\n",
    "# YOUR CODE HERE\n"
   ]
  },
  {
   "cell_type": "code",
   "execution_count": null,
   "metadata": {},
   "outputs": [],
   "source": [
    "# Calcluate the monhtly median search traffic across all months \n",
    "# Group the DataFrame by index year and then index month, chain the sum and then the median functions\n",
    "median_monthly_traffic = # YOUR CODE HERE\n",
    "\n",
    "# View the median_monthly_traffic value\n",
    "# YOUR CODE HERE\n"
   ]
  },
  {
   "cell_type": "code",
   "execution_count": null,
   "metadata": {},
   "outputs": [],
   "source": [
    "# Compare the seach traffic for the month of May 2020 to the overall monthly median value\n",
    "# YOUR CODE HERE\n"
   ]
  },
  {
   "cell_type": "markdown",
   "metadata": {},
   "source": [
    "##### Answer the following question: "
   ]
  },
  {
   "cell_type": "markdown",
   "metadata": {},
   "source": [
    "**Question:** Did the Google search traffic increase during the month that MercadoLibre released its financial results?\n",
    "\n",
    "**Answer:** # YOUR ANSWER HERE"
   ]
  },
  {
   "cell_type": "markdown",
   "metadata": {},
   "source": [
    "## Step 2: Mine the Search Traffic Data for Seasonality\n",
    "\n",
    "Marketing realizes that they can use the hourly search data, too. If they can track and predict interest in the company and its platform for any time of day, they can focus their marketing efforts around the times that have the most traffic. This will get a greater return on investment (ROI) from their marketing budget.\n",
    "\n",
    "To that end, you want to mine the search traffic data for predictable seasonal patterns of interest in the company. To do so, complete the following steps:\n",
    "\n",
    "1. Group the hourly search data to plot the average traffic by the day of the week (for example, Monday vs. Friday).\n",
    "\n",
    "2. Using hvPlot, visualize this traffic as a heatmap, referencing the `index.hour` as the x-axis and the `index.dayofweek` as the y-axis. Does any day-of-week effect that you observe concentrate in just a few hours of that day?\n",
    "\n",
    "3. Group the search data by the week of the year. Does the search traffic tend to increase during the winter holiday period (weeks 40 through 52)?\n"
   ]
  },
  {
   "cell_type": "markdown",
   "metadata": {},
   "source": [
    "#### Step 1: Group the hourly search data to plot the average traffic by the day of the week (for example, Monday vs. Friday)."
   ]
  },
  {
   "cell_type": "code",
   "execution_count": null,
   "metadata": {},
   "outputs": [],
   "source": [
    "# Holoviews extension to render hvPlots in Colab\n",
    "hv.extension('bokeh')\n",
    "\n",
    "# Group the hourly search data to plot (use hvPlot) the average traffic by the day of week \n",
    "# YOUR CODE HERE\n"
   ]
  },
  {
   "cell_type": "markdown",
   "metadata": {},
   "source": [
    "#### Step 2: Using hvPlot, visualize this traffic as a heatmap, referencing the `index.hour` as the x-axis and the `index.dayofweek` as the y-axis. Does any day-of-week effect that you observe concentrate in just a few hours of that day?"
   ]
  },
  {
   "cell_type": "code",
   "execution_count": null,
   "metadata": {},
   "outputs": [],
   "source": [
    "# Holoviews extension to render hvPlots in Colab\n",
    "hv.extension('bokeh')\n",
    "\n",
    "# Use hvPlot to visualize the hour of the day and day of week search traffic as a heatmap.\n",
    "# YOUR CODE HERE\n"
   ]
  },
  {
   "cell_type": "markdown",
   "metadata": {},
   "source": [
    "##### Answer the following question:"
   ]
  },
  {
   "cell_type": "markdown",
   "metadata": {},
   "source": [
    "**Question:** Does any day-of-week effect that you observe concentrate in just a few hours of that day?\n",
    "\n",
    "**Answer:** # YOUR ANSWER HERE"
   ]
  },
  {
   "cell_type": "markdown",
   "metadata": {},
   "source": [
    "#### Step 3: Group the search data by the week of the year. Does the search traffic tend to increase during the winter holiday period (weeks 40 through 52)?"
   ]
  },
  {
   "cell_type": "code",
   "execution_count": null,
   "metadata": {},
   "outputs": [],
   "source": [
    "# Holoviews extension to render hvPlots in Colab\n",
    "hv.extension('bokeh')\n",
    "\n",
    "# Group the hourly search data to plot (use hvPlot) the average traffic by the week of the year\n",
    "# YOUR CODE HERE"
   ]
  },
  {
   "cell_type": "markdown",
   "metadata": {},
   "source": [
    "##### Answer the following question:"
   ]
  },
  {
   "cell_type": "markdown",
   "metadata": {},
   "source": [
    "**Question:** Does the search traffic tend to increase during the winter holiday period (weeks 40 through 52)?\n",
    "\n",
    "**Answer:** # YOUR ANSWER HERE"
   ]
  },
  {
   "cell_type": "markdown",
   "metadata": {},
   "source": [
    "## Step 3: Relate the Search Traffic to Stock Price Patterns\n",
    "\n",
    "You mention your work on the search traffic data during a meeting with people in the finance group at the company. They want to know if any relationship between the search data and the company stock price exists, and they ask if you can investigate.\n",
    "\n",
    "To do so, complete the following steps:\n",
    "\n",
    "1. Read in and plot the stock price data. Concatenate the stock price data to the search data in a single DataFrame.\n",
    "\n",
    "2. Market events emerged during the year of 2020 that many companies found difficult. But, after the initial shock to global financial markets, new customers and revenue increased for e-commerce platforms. Slice the data to just the first half of 2020 (`2020-01` to `2020-06` in the DataFrame), and then use hvPlot to plot the data. Do both time series indicate a common trend that’s consistent with this narrative?\n",
    "\n",
    "3. Create a new column in the DataFrame named “Lagged Search Trends” that offsets, or shifts, the search traffic by one hour. Create two additional columns:\n",
    "\n",
    "    * “Stock Volatility”, which holds an exponentially weighted four-hour rolling average of the company’s stock volatility\n",
    "\n",
    "    * “Hourly Stock Return”, which holds the percent change of the company's stock price on an hourly basis\n",
    "\n",
    "4. Review the time series correlation, and then answer the following question: Does a predictable relationship exist between the lagged search traffic and the stock volatility or between the lagged search traffic and the stock price returns?\n"
   ]
  },
  {
   "cell_type": "markdown",
   "metadata": {},
   "source": [
    "#### Step 1: Read in and plot the stock price data. Concatenate the stock price data to the search data in a single DataFrame."
   ]
  },
  {
   "cell_type": "code",
   "execution_count": null,
   "metadata": {},
   "outputs": [],
   "source": [
    "# Upload the \"mercado_stock_price.csv\" file into Colab, then store in a Pandas DataFrame\n",
    "# Set the \"date\" column as the Datetime Index.\n",
    "from google.colab import files\n",
    "uploaded = files.upload()\n",
    "\n",
    "df_mercado_stock = # YOUR CODE HERE\n",
    "\n",
    "# View the first and last five rows of the DataFrame\n",
    "# YOUR CODE HERE\n"
   ]
  },
  {
   "cell_type": "code",
   "execution_count": null,
   "metadata": {},
   "outputs": [],
   "source": [
    "# Holoviews extension to render hvPlots in Colab\n",
    "hv.extension('bokeh')\n",
    "\n",
    "# Use hvPlot to visualize the closing price of the df_mercado_stock DataFrame\n",
    "# YOUR CODE HERE\n"
   ]
  },
  {
   "cell_type": "code",
   "execution_count": null,
   "metadata": {},
   "outputs": [],
   "source": [
    "# Concatenate the df_mercado_stock DataFrame with the df_mercado_trends DataFrame\n",
    "# Concatenate the DataFrame by columns (axis=1), and drop and rows with only one column of data\n",
    "mercado_stock_trends_df = # YOUR CODE HERE\n",
    "\n",
    "# View the first and last five rows of the DataFrame\n",
    "# YOUR CODE HERE\n"
   ]
  },
  {
   "cell_type": "markdown",
   "metadata": {},
   "source": [
    "#### Step 2: Market events emerged during the year of 2020 that many companies found difficult. But, after the initial shock to global financial markets, new customers and revenue increased for e-commerce platforms. Slice the data to just the first half of 2020 (`2020-01` to `2020-06` in the DataFrame), and then use hvPlot to plot the data. Do both time series indicate a common trend that’s consistent with this narrative?"
   ]
  },
  {
   "cell_type": "code",
   "execution_count": null,
   "metadata": {},
   "outputs": [],
   "source": [
    "# For the combined dataframe, slice to just the first half of 2020 (2020-01 through 2020-06) \n",
    "first_half_2020 = # YOUR CODE HERE\n",
    "\n",
    "# View the first and last five rows of first_half_2020 DataFrame\n",
    "# YOUR CODE HERE\n"
   ]
  },
  {
   "cell_type": "code",
   "execution_count": null,
   "metadata": {},
   "outputs": [],
   "source": [
    "# Holoviews extension to render hvPlots in Colab\n",
    "hv.extension('bokeh')\n",
    "\n",
    "# Use hvPlot to visualize the close and Search Trends data\n",
    "# Plot each column on a separate axes using the following syntax\n",
    "# `hvplot(shared_axes=False, subplots=True).cols(1)`\n",
    "# YOUR CODE HERE\n"
   ]
  },
  {
   "cell_type": "markdown",
   "metadata": {},
   "source": [
    "##### Answer the following question:"
   ]
  },
  {
   "cell_type": "markdown",
   "metadata": {},
   "source": [
    "**Question:** Do both time series indicate a common trend that’s consistent with this narrative?\n",
    "\n",
    "**Answer:** # YOUR ANSWER HERE"
   ]
  },
  {
   "cell_type": "markdown",
   "metadata": {},
   "source": [
    "#### Step 3: Create a new column in the DataFrame named “Lagged Search Trends” that offsets, or shifts, the search traffic by one hour. Create two additional columns:\n",
    "\n",
    "* “Stock Volatility”, which holds an exponentially weighted four-hour rolling average of the company’s stock volatility\n",
    "\n",
    "* “Hourly Stock Return”, which holds the percent change of the company's stock price on an hourly basis\n"
   ]
  },
  {
   "cell_type": "code",
   "execution_count": null,
   "metadata": {},
   "outputs": [],
   "source": [
    "# Create a new column in the mercado_stock_trends_df DataFrame called Lagged Search Trends\n",
    "# This column should shift the Search Trends information by one hour\n",
    "mercado_stock_trends_df['Lagged Search Trends'] = # YOUR CODE HERE\n"
   ]
  },
  {
   "cell_type": "code",
   "execution_count": null,
   "metadata": {},
   "outputs": [],
   "source": [
    "# Create a new column in the mercado_stock_trends_df DataFrame called Stock Volatility\n",
    "# This column should calculate the standard deviation of the closing stock price return data over a 4 period rolling window\n",
    "mercado_stock_trends_df['Stock Volatility'] = # YOUR CODE HERE\n"
   ]
  },
  {
   "cell_type": "code",
   "execution_count": null,
   "metadata": {},
   "outputs": [],
   "source": [
    "# Holoviews extension to render hvPlots in Colab\n",
    "hv.extension('bokeh')\n",
    "\n",
    "# Use hvPlot to visualize the stock volatility\n",
    "# YOUR CODE HERE\n"
   ]
  },
  {
   "cell_type": "markdown",
   "metadata": {},
   "source": [
    "**Solution Note:** Note how volatility spiked, and tended to stay high, during the first half of 2020. This is a common characteristic of volatility in stock returns worldwide: high volatility days tend to be followed by yet more high volatility days. When it rains, it pours."
   ]
  },
  {
   "cell_type": "code",
   "execution_count": null,
   "metadata": {},
   "outputs": [],
   "source": [
    "# Create a new column in the mercado_stock_trends_df DataFrame called Hourly Stock Return\n",
    "# This column should calculate hourly return percentage of the closing price\n",
    "mercado_stock_trends_df['Hourly Stock Return'] = # YOUR CODE HERE\n"
   ]
  },
  {
   "cell_type": "code",
   "execution_count": null,
   "metadata": {},
   "outputs": [],
   "source": [
    "# View the first and last five rows of the mercado_stock_trends_df DataFrame\n",
    "# YOUR CODE HERE\n"
   ]
  },
  {
   "cell_type": "markdown",
   "metadata": {},
   "source": [
    "#### Step 4: Review the time series correlation, and then answer the following question: Does a predictable relationship exist between the lagged search traffic and the stock volatility or between the lagged search traffic and the stock price returns?"
   ]
  },
  {
   "cell_type": "code",
   "execution_count": null,
   "metadata": {},
   "outputs": [],
   "source": [
    "# Construct correlation table of Stock Volatility, Lagged Search Trends, and Hourly Stock Return\n",
    "# YOUR CODE HERE\n"
   ]
  },
  {
   "cell_type": "markdown",
   "metadata": {},
   "source": [
    "##### Answer the following question:\n"
   ]
  },
  {
   "cell_type": "markdown",
   "metadata": {},
   "source": [
    "**Question:** Does a predictable relationship exist between the lagged search traffic and the stock volatility or between the lagged search traffic and the stock price returns?\n",
    "\n",
    "**Answer:** # YOUR ANSWER HERE"
   ]
  },
  {
   "cell_type": "markdown",
   "metadata": {},
   "source": [
    "## Step 4: Create a Time Series Model with Prophet\n",
    "\n",
    "Now, you need to produce a time series model that analyzes and forecasts patterns in the hourly search data. To do so, complete the following steps:\n",
    "\n",
    "1. Set up the Google search data for a Prophet forecasting model.\n",
    "\n",
    "2. After estimating the model, plot the forecast. How's the near-term forecast for the popularity of MercadoLibre?\n",
    "\n",
    "3. Plot the individual time series components of the model to answer the following questions:\n",
    "\n",
    "    * What time of day exhibits the greatest popularity?\n",
    "\n",
    "    * Which day of the week gets the most search traffic?\n",
    "\n",
    "    * What's the lowest point for search traffic in the calendar year?\n"
   ]
  },
  {
   "cell_type": "markdown",
   "metadata": {},
   "source": [
    "#### Step 1: Set up the Google search data for a Prophet forecasting model."
   ]
  },
  {
   "cell_type": "code",
   "execution_count": null,
   "metadata": {},
   "outputs": [],
   "source": [
    "# Using the df_mercado_trends DataFrame, reset the index so the date information is no longer the index\n",
    "mercado_prophet_df = # YOUR CODE HERE\n",
    "\n",
    "# Label the columns ds and y so that the syntax is recognized by Prophet\n",
    "# YOUR CODE HERE\n",
    "\n",
    "# Drop an NaN values from the prophet_df DataFrame\n",
    "mercado_prophet_df = # YOUR CODE HERE\n",
    "\n",
    "# View the first and last five rows of the mercado_prophet_df DataFrame\n",
    "# YOUR CODE HERE\n"
   ]
  },
  {
   "cell_type": "code",
   "execution_count": null,
   "metadata": {},
   "outputs": [],
   "source": [
    "# Call the Prophet function, store as an object\n",
    "model_mercado_trends = # YOUR CODE HERE\n"
   ]
  },
  {
   "cell_type": "code",
   "execution_count": null,
   "metadata": {},
   "outputs": [],
   "source": [
    "# Fit the time-series model.\n",
    "# YOUR CODE HERE\n"
   ]
  },
  {
   "cell_type": "code",
   "execution_count": null,
   "metadata": {},
   "outputs": [],
   "source": [
    "# Create a future dataframe to hold predictions\n",
    "# Make the prediction go out as far as 2000 hours (approx 80 days)\n",
    "future_mercado_trends = # YOUR CODE HERE\n",
    "\n",
    "# View the last five rows of the future_mercado_trends DataFrame\n",
    "# YOUR CODE HERE\n"
   ]
  },
  {
   "cell_type": "code",
   "execution_count": null,
   "metadata": {},
   "outputs": [],
   "source": [
    "# Make the predictions for the trend data using the future_mercado_trends DataFrame\n",
    "forecast_mercado_trends = # YOUR CODE HERE\n",
    "\n",
    "# Display the first five rows of the forecast_mercado_trends DataFrame\n",
    "# YOUR CODE HERE\n"
   ]
  },
  {
   "cell_type": "markdown",
   "metadata": {},
   "source": [
    "#### Step 2: After estimating the model, plot the forecast. How's the near-term forecast for the popularity of MercadoLibre?"
   ]
  },
  {
   "cell_type": "code",
   "execution_count": null,
   "metadata": {},
   "outputs": [],
   "source": [
    "# Plot the Prophet predictions for the Mercado trends data\n",
    "# YOUR CODE HERE"
   ]
  },
  {
   "cell_type": "markdown",
   "metadata": {},
   "source": [
    "##### Answer the following question:"
   ]
  },
  {
   "cell_type": "markdown",
   "metadata": {},
   "source": [
    "**Question:**  How's the near-term forecast for the popularity of MercadoLibre?\n",
    "\n",
    "**Answer:** # YOUR ANSWER HERE\n"
   ]
  },
  {
   "cell_type": "markdown",
   "metadata": {},
   "source": [
    "#### Step 3: Plot the individual time series components of the model to answer the following questions:\n",
    "\n",
    "* What time of day exhibits the greatest popularity?\n",
    "\n",
    "* Which day of the week gets the most search traffic?\n",
    "\n",
    "* What's the lowest point for search traffic in the calendar year?\n"
   ]
  },
  {
   "cell_type": "code",
   "execution_count": null,
   "metadata": {},
   "outputs": [],
   "source": [
    "# Set the index in the forecast_mercado_trends DataFrame to the ds datetime column\n",
    "forecast_mercado_trends = # YOUR CODE HERE\n",
    "\n",
    "# View the only the yhat,yhat_lower and yhat_upper columns from the DataFrame\n",
    "# YOUR CODE HERE\n"
   ]
  },
  {
   "cell_type": "markdown",
   "metadata": {},
   "source": [
    "Solutions Note: `yhat` represents the most likely (average) forecast, whereas `yhat_lower` and `yhat_upper` represents the worst and best case prediction (based on what are known as 95% confidence intervals)."
   ]
  },
  {
   "cell_type": "code",
   "execution_count": null,
   "metadata": {},
   "outputs": [],
   "source": [
    "# Holoviews extension to render hvPlots in Colab\n",
    "hv.extension('bokeh')\n",
    "\n",
    "# From the forecast_mercado_trends DataFrame, use hvPlot to visualize\n",
    "#  the yhat, yhat_lower, and yhat_upper columns over the last 2000 hours \n",
    "# YOUR CODE HERE\n"
   ]
  },
  {
   "cell_type": "code",
   "execution_count": null,
   "metadata": {},
   "outputs": [],
   "source": [
    "# Reset the index in the forecast_mercado_trends DataFrame\n",
    "forecast_mercado_trends = # YOUR CODE HERE\n",
    "\n",
    "# Use the plot_components function to visualize the forecast results \n",
    "# for the forecast_canada DataFrame \n",
    "figures_mercado_trends = # YOUR CODE HERE\n"
   ]
  },
  {
   "cell_type": "markdown",
   "metadata": {},
   "source": [
    "##### Answer the following questions:"
   ]
  },
  {
   "cell_type": "markdown",
   "metadata": {},
   "source": [
    "**Question:** What time of day exhibits the greatest popularity?\n",
    "\n",
    "**Answer:** # YOUR ANSWER HERE"
   ]
  },
  {
   "cell_type": "markdown",
   "metadata": {},
   "source": [
    "**Question:** Which day of week gets the most search traffic? \n",
    "   \n",
    "**Answer:** # YOUR ANSWER HERE"
   ]
  },
  {
   "cell_type": "markdown",
   "metadata": {},
   "source": [
    "**Question:** What's the lowest point for search traffic in the calendar year?\n",
    "\n",
    "**Answer:** # YOUR ANSWER HERE\n"
   ]
  },
  {
   "cell_type": "markdown",
   "metadata": {},
   "source": [
    "## Step 5 (Optional): Forecast Revenue by Using Time Series Models\n",
    "\n",
    "A few weeks after your initial analysis, the finance group follows up to find out if you can help them solve a different problem. Your fame as a growth analyst in the company continues to grow!\n",
    "\n",
    "Specifically, the finance group wants a forecast of the total sales for the next quarter. This will dramatically increase their ability to plan budgets and to help guide expectations for the company investors.\n",
    "\n",
    "To do so, complete the following steps:\n",
    "\n",
    "1. Read in the daily historical sales (that is, revenue) figures, and then apply a Prophet model to the data. The daily sales figures are quoted in millions of USD dollars.\n",
    "\n",
    "2. Interpret the model output to identify any seasonal patterns in the company's revenue. For example, what are the peak revenue days? (Mondays? Fridays? Something else?)\n",
    "\n",
    "3. Produce a sales forecast for the finance group. Give them a number for the expected total sales in the next quarter. Include the best- and worst-case scenarios to help them make better plans.\n",
    "\n",
    "\n"
   ]
  },
  {
   "cell_type": "markdown",
   "metadata": {},
   "source": [
    "#### Step 1: Read in the daily historical sales (that is, revenue) figures, and then apply a Prophet model to the data."
   ]
  },
  {
   "cell_type": "code",
   "execution_count": null,
   "metadata": {},
   "outputs": [],
   "source": [
    "# Upload the \"mercado_daily_revenue.csv\" file into Colab, then store in a Pandas DataFrame\n",
    "# Set the \"date\" column as the DatetimeIndex\n",
    "# Sales are quoted in millions of US dollars\n",
    "from google.colab import files\n",
    "uploaded = files.upload()\n",
    "\n",
    "df_mercado_sales = # YOUR CODE HERE\n",
    "\n",
    "# Review the DataFrame\n",
    "# YOUR CODE HERE\n"
   ]
  },
  {
   "cell_type": "code",
   "execution_count": null,
   "metadata": {},
   "outputs": [],
   "source": [
    "# Holoviews extension to render hvPlots in Colab\n",
    "hv.extension('bokeh')\n",
    "\n",
    "# Use hvPlot to visualize the daily sales figures \n",
    "# YOUR CODE HERE\n"
   ]
  },
  {
   "cell_type": "code",
   "execution_count": null,
   "metadata": {},
   "outputs": [],
   "source": [
    "# Apply a Facebook Prophet model to the data.\n",
    "\n",
    "# Set up the dataframe in the neccessary format:\n",
    "# Reset the index so that date becomes a column in the DataFrame\n",
    "mercado_sales_prophet_df = # YOUR CODE HERE\n",
    "\n",
    "# Adjust the columns names to the Prophet syntax\n",
    "mercado_sales_prophet_df.columns = # YOUR CODE HERE\n",
    "\n",
    "# Visualize the DataFrame\n",
    "# YOUR CODE HERE\n"
   ]
  },
  {
   "cell_type": "code",
   "execution_count": null,
   "metadata": {},
   "outputs": [],
   "source": [
    "# Create the model\n",
    "mercado_sales_prophet_model = # YOUR CODE HERE\n",
    "\n",
    "# Fit the model\n",
    "# YOUR CODE HERE\n"
   ]
  },
  {
   "cell_type": "code",
   "execution_count": null,
   "metadata": {},
   "outputs": [],
   "source": [
    "# Predict sales for 90 days (1 quarter) out into the future.\n",
    "\n",
    "# Start by making a future dataframe\n",
    "mercado_sales_prophet_future = # YOUR CODE HERE\n",
    "\n",
    "# Display the last five rows of the future DataFrame\n",
    "# YOUR CODE HERE\n"
   ]
  },
  {
   "cell_type": "code",
   "execution_count": null,
   "metadata": {},
   "outputs": [],
   "source": [
    "# Make predictions for the sales each day over the next quarter\n",
    "mercado_sales_prophet_forecast = # YOUR CODE HERE\n",
    "\n",
    "# Display the first 5 rows of the resulting DataFrame\n",
    "# YOUR CODE HERE\n"
   ]
  },
  {
   "cell_type": "markdown",
   "metadata": {},
   "source": [
    "#### Step 2: Interpret the model output to identify any seasonal patterns in the company's revenue. For example, what are the peak revenue days? (Mondays? Fridays? Something else?)"
   ]
  },
  {
   "cell_type": "code",
   "execution_count": null,
   "metadata": {},
   "outputs": [],
   "source": [
    "# Use the plot_components function to analyze seasonal patterns in the company's revenue\n",
    "# YOUR CODE HERE\n"
   ]
  },
  {
   "cell_type": "markdown",
   "metadata": {},
   "source": [
    "##### Answer the following question:"
   ]
  },
  {
   "cell_type": "markdown",
   "metadata": {},
   "source": [
    "**Question:** For example, what are the peak revenue days? (Mondays? Fridays? Something else?)\n",
    "\n",
    "**Answer:** # YOUR ANSWER HERE"
   ]
  },
  {
   "cell_type": "markdown",
   "metadata": {},
   "source": [
    "#### Step 3: Produce a sales forecast for the finance group. Give them a number for the expected total sales in the next quarter. Include the best- and worst-case scenarios to help them make better plans."
   ]
  },
  {
   "cell_type": "code",
   "execution_count": null,
   "metadata": {},
   "outputs": [],
   "source": [
    "# Plot the predictions for the Mercado sales\n",
    "# YOUR CODE HERE\n"
   ]
  },
  {
   "cell_type": "code",
   "execution_count": null,
   "metadata": {},
   "outputs": [],
   "source": [
    "# For the mercado_sales_prophet_forecast DataFrame, set the ds column as the DataFrame Index\n",
    "mercado_sales_prophet_forecast = # YOUR CODE HERE\n",
    "\n",
    "# Display the first and last five rows of the DataFrame\n",
    "# YOUR CODE HERE\n"
   ]
  },
  {
   "cell_type": "code",
   "execution_count": null,
   "metadata": {},
   "outputs": [],
   "source": [
    "# Produce a sales forecast for the finance division\n",
    "# giving them a number for expected total sales next quarter.\n",
    "# Provide best case (yhat_upper), worst case (yhat_lower), and most likely (yhat) scenarios.\n",
    "\n",
    "# Create a forecast_quarter Dataframe for the period 2020-07-01 to 2020-09-30\n",
    "# The DataFrame should include the columns yhat_upper, yhat_lower, and yhat\n",
    "mercado_sales_forecast_quarter = # YOUR CODE HERE\n",
    "\n",
    "# Update the column names for the forecast_quarter DataFrame\n",
    "# to match what the finance division is looking for \n",
    "mercado_sales_forecast_quarter = # YOUR CODE HERE\n",
    "\n",
    "# Review the last five rows of the DataFrame\n",
    "# YOUR CODE HERE\n"
   ]
  },
  {
   "cell_type": "code",
   "execution_count": null,
   "metadata": {},
   "outputs": [],
   "source": [
    "# Displayed the summed values for all the rows in the forecast_quarter DataFrame\n",
    "# YOUR CODE HERE\n"
   ]
  },
  {
   "cell_type": "markdown",
   "metadata": {},
   "source": [
    "### Based on the forecast information generated above, produce a sales forecast for the finance division, giving them a number for expected total sales next quarter. Include best and worst case scenarios, to better help the finance team plan.\n",
    "\n",
    "**Answer:** # YOUR ANSWER HERE"
   ]
  },
  {
   "cell_type": "code",
   "execution_count": null,
   "metadata": {},
   "outputs": [],
   "source": []
  }
 ],
 "metadata": {
  "interpreter": {
   "hash": "19e8989aa3860df68a863f1588d3224aff2bcab6c36efaf4301abe79e1a8b3d9"
  },
  "kernelspec": {
   "display_name": "Python 3 (ipykernel)",
   "language": "python",
   "name": "python3"
  },
  "language_info": {
   "codemirror_mode": {
    "name": "ipython",
    "version": 3
   },
   "file_extension": ".py",
   "mimetype": "text/x-python",
   "name": "python",
   "nbconvert_exporter": "python",
   "pygments_lexer": "ipython3",
   "version": "3.7.15"
  }
 },
 "nbformat": 4,
 "nbformat_minor": 4
}
